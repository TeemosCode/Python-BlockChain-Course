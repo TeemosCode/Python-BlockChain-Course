{
 "cells": [
  {
   "cell_type": "code",
   "execution_count": 7,
   "metadata": {
    "collapsed": false
   },
   "outputs": [
    {
     "name": "stdout",
     "output_type": "stream",
     "text": [
      "{u'a': 1, u'b': 2}\n",
      "create folder - testing_folder\n"
     ]
    }
   ],
   "source": [
    "# urllib2 --> 抓取網路資料\n",
    "import urllib2\n",
    "response = urllib2.urlopen(\"http://tw.yahoo.com\")\n",
    "\n",
    "\n",
    "\n",
    "# json    --> 寫入與讀取 JSON\n",
    "import json\n",
    "a = {\"a\": 1, \"b\": 2}\n",
    "\n",
    "# 寫入 JSON to File\n",
    "with open(\"test.json\", \"wb\") as out_file:\n",
    "    json.dump(a, out_file)\n",
    "\n",
    "a = None\n",
    "with open(\"test.json\", \"rb\") as in_file:\n",
    "    a = json.load(in_file)\n",
    "print a\n",
    "\n",
    "\n",
    "\n",
    "# os      --> 檔案系統讀寫\n",
    "import os\n",
    "\n",
    "folder = \"testing_folder\"\n",
    "if not os.path.exists(folder): # 檢查 folder 是否存在\n",
    "    os.makedirs(folder)\n",
    "    \n",
    "    print \"create folder - {}\".format(folder)\n",
    "else:\n",
    "    print \"already found this folder - {}\".format(folder)"
   ]
  },
  {
   "cell_type": "markdown",
   "metadata": {},
   "source": [
    "# 抓取台銀匯率資料"
   ]
  },
  {
   "cell_type": "code",
   "execution_count": 1,
   "metadata": {
    "collapsed": false
   },
   "outputs": [
    {
     "name": "stdout",
     "output_type": "stream",
     "text": [
      "Already found this folder - /Users/rongqichen/Documents/cathay/Training_Course/Python/training_course/github/ncu_day_1/json\n"
     ]
    }
   ],
   "source": [
    "import os\n",
    "import json\n",
    "import urllib2\n",
    "\n",
    "uri = \"http://rate.bot.com.tw/xrt/flcsv/0/day\"\n",
    "\n",
    "repository = os.path.join(os.getcwd(), \"json\")\n",
    "filepath = os.path.join(repository, \"fxrate.json\")\n",
    "\n",
    "# create folder\n",
    "if not os.path.exists(repository):\n",
    "    os.makedirs(repository)\n",
    "else:\n",
    "    print \"Already found this folder - {}\".format(repository)\n",
    "\n",
    "response = urllib2.urlopen(uri)\n",
    "content = response.read()\n",
    "\n",
    "is_header = True\n",
    "headers, results = [], []\n",
    "for line in content.split(\"\\n\"):\n",
    "    if is_header:\n",
    "        headers = line.strip().split(\",\")\n",
    "        \n",
    "        is_header = False\n",
    "    else:\n",
    "        results.append(dict(zip(headers, line.strip().split(\",\"))))\n",
    "\n",
    "with open(filepath, \"wb\") as out_file:\n",
    "    json.dump(results, out_file)"
   ]
  },
  {
   "cell_type": "markdown",
   "metadata": {},
   "source": [
    "# 抓取台北市公車資訊"
   ]
  },
  {
   "cell_type": "code",
   "execution_count": 3,
   "metadata": {
    "collapsed": false
   },
   "outputs": [
    {
     "name": "stdout",
     "output_type": "stream",
     "text": [
      "Already found this folder - /Users/rongqichen/Documents/cathay/Training_Course/Python/training_course/github/ncu_day_1/json\n"
     ]
    }
   ],
   "source": [
    "uri = \"http://ptx.transportdata.tw/MOTC/v2/Bus/EstimatedTimeOfArrival/City/Taipei?$top=30000&$format=JSON\"\n",
    "\n",
    "repository = os.path.join(os.getcwd(), \"json\")\n",
    "filepath = os.path.join(repository, \"taipei_bus.json\")\n",
    "\n",
    "# create folder\n",
    "if not os.path.exists(repository):\n",
    "    os.makedirs(repository)\n",
    "else:\n",
    "    print \"Already found this folder - {}\".format(repository)\n",
    "    \n",
    "response = urllib2.urlopen(uri)\n",
    "content = response.read()\n",
    "\n",
    "with open(filepath, \"wb\") as out_file:\n",
    "    json.dump(content, out_file)"
   ]
  },
  {
   "cell_type": "markdown",
   "metadata": {},
   "source": [
    "# 抓取台灣興櫃美日行情"
   ]
  },
  {
   "cell_type": "code",
   "execution_count": 11,
   "metadata": {
    "collapsed": false
   },
   "outputs": [
    {
     "name": "stdout",
     "output_type": "stream",
     "text": [
      "Already found this folder - /Users/rongqichen/Documents/cathay/Training_Course/Python/training_course/github/ncu_day_1/json\n"
     ]
    }
   ],
   "source": [
    "uri = \"http://www.tpex.org.tw/storage/emgstk/ch/new.csv?t=1490626439859\"\n",
    "\n",
    "repository = os.path.join(os.getcwd(), \"json\")\n",
    "filepath = os.path.join(repository, \"emerging_stock.json\")\n",
    "\n",
    "# create folder\n",
    "if not os.path.exists(repository):\n",
    "    os.makedirs(repository)\n",
    "else:\n",
    "    print \"Already found this folder - {}\".format(repository)\n",
    "    \n",
    "response = urllib2.urlopen(uri)\n",
    "content = unicode(response.read(), \"big5\")\n",
    "\n",
    "headers, results = [], []\n",
    "for idx, line in enumerate(content.split(\"\\n\")):\n",
    "    if idx == 2:\n",
    "        headers = line.strip().split(\",\")\n",
    "    elif idx > 2:\n",
    "        results.append(dict(zip(headers, line.strip().split(\",\"))))\n",
    "    else:\n",
    "        pass\n",
    "\n",
    "with open(filepath, \"wb\") as out_file:\n",
    "    json.dump(content, out_file)"
   ]
  },
  {
   "cell_type": "code",
   "execution_count": null,
   "metadata": {
    "collapsed": true
   },
   "outputs": [],
   "source": []
  }
 ],
 "metadata": {
  "kernelspec": {
   "display_name": "Python 2",
   "language": "python",
   "name": "python2"
  },
  "language_info": {
   "codemirror_mode": {
    "name": "ipython",
    "version": 2
   },
   "file_extension": ".py",
   "mimetype": "text/x-python",
   "name": "python",
   "nbconvert_exporter": "python",
   "pygments_lexer": "ipython2",
   "version": "2.7.13"
  }
 },
 "nbformat": 4,
 "nbformat_minor": 2
}
