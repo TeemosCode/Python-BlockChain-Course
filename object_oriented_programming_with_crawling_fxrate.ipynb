{
 "cells": [
  {
   "cell_type": "code",
   "execution_count": 44,
   "metadata": {
    "collapsed": true
   },
   "outputs": [],
   "source": [
    "import os\n",
    "import json\n",
    "\n",
    "import urlparse\n",
    "import datetime\n",
    "\n",
    "class Bot(object):\n",
    "    repository = \"oo_json\"\n",
    "    filepath_results = NotImplemented\n",
    "\n",
    "    def __init__(self, uri):\n",
    "        self.dataset = []\n",
    "        self.info = {}\n",
    "\n",
    "        self.init()\n",
    "        \n",
    "        \n",
    "        self.set_uri(uri)\n",
    "        self.content = None\n",
    "        self.results = []\n",
    "\n",
    "    def init(self):\n",
    "        if not os.path.exists(self.repository):\n",
    "            os.makedirs(self.repository)\n",
    "        else:\n",
    "            print \"Already found this folder - {}\".format(self.repository)\n",
    "\n",
    "    def process(self):\n",
    "        self.crawl_results()\n",
    "        self.parse_results()\n",
    "        self.write_results()\n",
    "\n",
    "    def set_uri(self, uri):\n",
    "        self.uri = uri\n",
    "\n",
    "    def crawl_results(self):\n",
    "        if self.uri:\n",
    "            response = urllib2.urlopen(self.uri)\n",
    "\n",
    "            self.content = response.read()\n",
    "        else:\n",
    "            print \"Pleaset set the value for self.uri\"\n",
    "\n",
    "    def parse_results(self):\n",
    "        raise NotImplementedError\n",
    "        \n",
    "    def write_results(self):\n",
    "        if self.results:\n",
    "            filepath = os.path.join(self.repository, self.filepath_results)\n",
    "            with open(filepath, \"wb\") as out_file:\n",
    "                json.dump(self.results, out_file)\n",
    "        else:\n",
    "            print \"Found the self.results is None\"\n"
   ]
  },
  {
   "cell_type": "markdown",
   "metadata": {},
   "source": [
    "# 抓取台灣銀行匯率資料"
   ]
  },
  {
   "cell_type": "code",
   "execution_count": 45,
   "metadata": {
    "collapsed": false
   },
   "outputs": [
    {
     "name": "stdout",
     "output_type": "stream",
     "text": [
      "Already found this folder - oo_json\n"
     ]
    }
   ],
   "source": [
    "class FxRateBot(Bot):\n",
    "    filepath_results = \"fxrate.json\"\n",
    "\n",
    "    def parse_results(self):\n",
    "        if self.content:\n",
    "            is_header = True\n",
    "            headers = []\n",
    "            for line in self.content.split(\"\\n\"):\n",
    "                if is_header:\n",
    "                    headers = line.strip().split(\",\")\n",
    "\n",
    "                    is_header = False\n",
    "                else:\n",
    "                    self.results.append(dict(zip(headers, line.strip().split(\",\"))))\n",
    "        else:\n",
    "            print \"Found the self.content is None\"\n",
    "            \n",
    "uri = \"http://rate.bot.com.tw/xrt/flcsv/0/day\"\n",
    "bot = FxRateBot(uri)\n",
    "bot.process()"
   ]
  },
  {
   "cell_type": "markdown",
   "metadata": {},
   "source": [
    "# 抓取台北市公車資料"
   ]
  },
  {
   "cell_type": "code",
   "execution_count": 48,
   "metadata": {
    "collapsed": false
   },
   "outputs": [
    {
     "name": "stdout",
     "output_type": "stream",
     "text": [
      "Already found this folder - oo_json\n",
      "Found the self.results is None\n"
     ]
    }
   ],
   "source": [
    "class BusBot(Bot):\n",
    "    filepath_results = \"taipei_bus.json\"\n",
    "    \n",
    "    def parse_results(self):\n",
    "        pass\n",
    "    \n",
    "uri = \"http://ptx.transportdata.tw/MOTC/v2/Bus/EstimatedTimeOfArrival/City/Taipei?$top=30000&$format=JSON\"\n",
    "bot = BusBot(uri)\n",
    "bot.process()"
   ]
  },
  {
   "cell_type": "markdown",
   "metadata": {},
   "source": [
    "# 抓取台灣興櫃公司股票資訊"
   ]
  },
  {
   "cell_type": "code",
   "execution_count": 52,
   "metadata": {
    "collapsed": false
   },
   "outputs": [
    {
     "name": "stdout",
     "output_type": "stream",
     "text": [
      "Already found this folder - oo_json\n"
     ]
    }
   ],
   "source": [
    "class EmergingStock(Bot):\n",
    "    filepath_results = \"emerging_stock.json\"\n",
    "    \n",
    "    def crawl_results(self):\n",
    "        super(EmergingStock, self).crawl_results()\n",
    "        \n",
    "        self.content = unicode(self.content, \"big5\")\n",
    "    \n",
    "    def parse_results(self):\n",
    "        headers, results = [], []\n",
    "        for idx, line in enumerate(self.content.split(\"\\n\")):\n",
    "            if idx == 2:\n",
    "                headers = line.strip().split(\",\")\n",
    "            elif idx > 2:\n",
    "                self.results.append(dict(zip(headers, line.strip().split(\",\"))))\n",
    "            else:\n",
    "                pass\n",
    "            \n",
    "uri = \"http://www.tpex.org.tw/storage/emgstk/ch/new.csv?t=1490626439859\"\n",
    "bot = EmergingStock(uri)\n",
    "bot.process()"
   ]
  },
  {
   "cell_type": "code",
   "execution_count": null,
   "metadata": {
    "collapsed": true
   },
   "outputs": [],
   "source": []
  }
 ],
 "metadata": {
  "kernelspec": {
   "display_name": "Python 2",
   "language": "python",
   "name": "python2"
  },
  "language_info": {
   "codemirror_mode": {
    "name": "ipython",
    "version": 2
   },
   "file_extension": ".py",
   "mimetype": "text/x-python",
   "name": "python",
   "nbconvert_exporter": "python",
   "pygments_lexer": "ipython2",
   "version": "2.7.13"
  }
 },
 "nbformat": 4,
 "nbformat_minor": 2
}
