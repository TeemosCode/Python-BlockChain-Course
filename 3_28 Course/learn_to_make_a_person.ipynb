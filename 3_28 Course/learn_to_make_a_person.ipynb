{
 "cells": [
  {
   "cell_type": "markdown",
   "metadata": {},
   "source": [
    "# class(類別) and instance（實體）"
   ]
  },
  {
   "cell_type": "code",
   "execution_count": 2,
   "metadata": {
    "collapsed": false
   },
   "outputs": [
    {
     "name": "stdout",
     "output_type": "stream",
     "text": [
      "<__main__.Person instance at 0x10c4247e8>\n"
     ]
    }
   ],
   "source": [
    "class Person:\n",
    "    pass\n",
    "\n",
    "p = Person()\n",
    "print p"
   ]
  },
  {
   "cell_type": "markdown",
   "metadata": {},
   "source": [
    "# self, method and member"
   ]
  },
  {
   "cell_type": "code",
   "execution_count": 8,
   "metadata": {
    "collapsed": false
   },
   "outputs": [
    {
     "name": "stdout",
     "output_type": "stream",
     "text": [
      "我是陳榮錡，開始笑囉！\n"
     ]
    }
   ],
   "source": [
    "class Person:\n",
    "    def set_name(self, name):\n",
    "        self.name = name\n",
    "    \n",
    "    def smile(self):\n",
    "        print \"我是{}，開始笑囉！\".format(self.name)\n",
    "\n",
    "p = Person()\n",
    "p.set_name(\"陳榮錡\")\n",
    "p.smile()"
   ]
  },
  {
   "cell_type": "markdown",
   "metadata": {},
   "source": [
    "# encapsulation(封裝)"
   ]
  },
  {
   "cell_type": "code",
   "execution_count": 16,
   "metadata": {
    "collapsed": false
   },
   "outputs": [
    {
     "name": "stdout",
     "output_type": "stream",
     "text": [
      "我是陳榮錡，笑笑笑\n"
     ]
    }
   ],
   "source": [
    "class Person(object):\n",
    "    def __init__(self, name):\n",
    "        self.__name = name\n",
    "\n",
    "    def set_name(self, name):\n",
    "        self.__name = name\n",
    "        \n",
    "    def get_name(self):\n",
    "        return self.__name\n",
    "    \n",
    "    def smile(self):\n",
    "        print \"我是{}，笑笑笑\".format(self.__name)\n",
    "        \n",
    "p = Person(\"陳榮錡\")\n",
    "p.smile()"
   ]
  },
  {
   "cell_type": "markdown",
   "metadata": {},
   "source": [
    "# inheritance(繼承)"
   ]
  },
  {
   "cell_type": "code",
   "execution_count": 19,
   "metadata": {
    "collapsed": false
   },
   "outputs": [
    {
     "name": "stdout",
     "output_type": "stream",
     "text": [
      "我是RC，笑笑笑\n",
      "嘿！\n",
      "我是TH，笑笑笑\n",
      "嗨！\n"
     ]
    }
   ],
   "source": [
    "class Man(Person):\n",
    "    def hi(self):\n",
    "        print \"嘿！\"\n",
    "        \n",
    "class Woman(Person):\n",
    "    def hi(self):\n",
    "        print \"嗨！\"\n",
    "        \n",
    "man = Man(\"RC\")\n",
    "man.smile()\n",
    "man.hi()\n",
    "\n",
    "woman = Woman(\"TH\")\n",
    "woman.smile()\n",
    "woman.hi()"
   ]
  },
  {
   "cell_type": "markdown",
   "metadata": {},
   "source": [
    "# method overriding(覆載)"
   ]
  },
  {
   "cell_type": "code",
   "execution_count": 20,
   "metadata": {
    "collapsed": false
   },
   "outputs": [
    {
     "name": "stdout",
     "output_type": "stream",
     "text": [
      "我是RC，哈哈哈\n",
      "我是TH，呵呵呵\n"
     ]
    }
   ],
   "source": [
    "class Man(Person):\n",
    "    def smile(self):\n",
    "        print \"我是{}，哈哈哈\".format(self.get_name())\n",
    "        \n",
    "class Woman(Person):\n",
    "    def smile(self):\n",
    "        print \"我是{}，呵呵呵\".format(self.get_name())\n",
    "        \n",
    "man = Man(\"RC\")\n",
    "man.smile()\n",
    "\n",
    "woman = Woman(\"TH\")\n",
    "woman.smile()"
   ]
  },
  {
   "cell_type": "code",
   "execution_count": null,
   "metadata": {
    "collapsed": true
   },
   "outputs": [],
   "source": []
  }
 ],
 "metadata": {
  "kernelspec": {
   "display_name": "Python 2",
   "language": "python",
   "name": "python2"
  },
  "language_info": {
   "codemirror_mode": {
    "name": "ipython",
    "version": 2
   },
   "file_extension": ".py",
   "mimetype": "text/x-python",
   "name": "python",
   "nbconvert_exporter": "python",
   "pygments_lexer": "ipython2",
   "version": "2.7.13"
  }
 },
 "nbformat": 4,
 "nbformat_minor": 2
}
